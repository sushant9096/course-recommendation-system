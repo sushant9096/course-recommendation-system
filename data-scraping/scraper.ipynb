{
 "cells": [
  {
   "cell_type": "code",
   "execution_count": 1,
   "id": "239e88de",
   "metadata": {
    "ExecuteTime": {
     "end_time": "2024-02-17T14:31:34.256328800Z",
     "start_time": "2024-02-17T14:31:34.223292800Z"
    }
   },
   "outputs": [],
   "source": [
    "# !pip install selenium pandas"
   ]
  },
  {
   "cell_type": "code",
   "execution_count": 2,
   "id": "5a5c5360",
   "metadata": {
    "ExecuteTime": {
     "end_time": "2024-02-17T14:31:36.618384300Z",
     "start_time": "2024-02-17T14:31:35.060110600Z"
    }
   },
   "outputs": [],
   "source": [
    "import pandas as pd\n",
    "from selenium import webdriver\n",
    "from selenium.common.exceptions import NoSuchElementException\n",
    "import re\n",
    "\n",
    "import warnings\n",
    "\n",
    "warnings.filterwarnings('ignore')"
   ]
  },
  {
   "cell_type": "code",
   "execution_count": 3,
   "id": "04486d36",
   "metadata": {
    "ExecuteTime": {
     "end_time": "2024-02-17T14:31:44.536301Z",
     "start_time": "2024-02-17T14:31:37.396584900Z"
    }
   },
   "outputs": [],
   "source": [
    "driver = webdriver.Firefox()"
   ]
  },
  {
   "cell_type": "code",
   "execution_count": 4,
   "id": "c8f8e401",
   "metadata": {
    "ExecuteTime": {
     "end_time": "2024-02-17T14:31:49.971952900Z",
     "start_time": "2024-02-17T14:31:49.948946900Z"
    }
   },
   "outputs": [],
   "source": [
    "driver.implicitly_wait(0.5)"
   ]
  },
  {
   "cell_type": "code",
   "execution_count": 5,
   "id": "6cf56e7c",
   "metadata": {
    "ExecuteTime": {
     "end_time": "2024-02-17T14:31:52.023594300Z",
     "start_time": "2024-02-17T14:31:52.012545200Z"
    }
   },
   "outputs": [],
   "source": [
    "# driver.get('https://www.naukri.com/jobs-in-all')"
   ]
  },
  {
   "cell_type": "code",
   "execution_count": 6,
   "id": "271a463f",
   "metadata": {
    "ExecuteTime": {
     "end_time": "2024-02-17T14:31:52.597358900Z",
     "start_time": "2024-02-17T14:31:52.573366400Z"
    }
   },
   "outputs": [],
   "source": [
    "# df = pd.read_csv('./Coursera_courses.csv')"
   ]
  },
  {
   "cell_type": "code",
   "execution_count": 8,
   "id": "9ceef764",
   "metadata": {
    "ExecuteTime": {
     "end_time": "2024-02-17T14:42:16.609139700Z",
     "start_time": "2024-02-17T14:35:34.119460800Z"
    }
   },
   "outputs": [
    {
     "name": "stderr",
     "output_type": "stream",
     "text": [
      " 12%|█▏        | 10/84 [00:34<04:08,  3.36s/it]"
     ]
    },
    {
     "name": "stdout",
     "output_type": "stream",
     "text": [
      "Course earn skills not found\n"
     ]
    },
    {
     "name": "stderr",
     "output_type": "stream",
     "text": [
      " 15%|█▌        | 13/84 [00:46<04:04,  3.45s/it]"
     ]
    },
    {
     "name": "stdout",
     "output_type": "stream",
     "text": [
      "Course earn skills not found\n"
     ]
    },
    {
     "name": "stderr",
     "output_type": "stream",
     "text": [
      " 19%|█▉        | 16/84 [00:55<03:40,  3.24s/it]"
     ]
    },
    {
     "name": "stdout",
     "output_type": "stream",
     "text": [
      "Course earn skills not found\n"
     ]
    },
    {
     "name": "stderr",
     "output_type": "stream",
     "text": [
      " 20%|██        | 17/84 [00:58<03:34,  3.20s/it]"
     ]
    },
    {
     "name": "stdout",
     "output_type": "stream",
     "text": [
      "Course earn skills not found\n"
     ]
    },
    {
     "name": "stderr",
     "output_type": "stream",
     "text": [
      " 25%|██▌       | 21/84 [01:10<03:07,  2.98s/it]"
     ]
    },
    {
     "name": "stdout",
     "output_type": "stream",
     "text": [
      "Course earn skills not found\n"
     ]
    },
    {
     "name": "stderr",
     "output_type": "stream",
     "text": [
      " 26%|██▌       | 22/84 [01:13<03:11,  3.09s/it]"
     ]
    },
    {
     "name": "stdout",
     "output_type": "stream",
     "text": [
      "Course earn skills not found\n"
     ]
    },
    {
     "name": "stderr",
     "output_type": "stream",
     "text": [
      " 30%|██▉       | 25/84 [01:25<03:24,  3.47s/it]"
     ]
    },
    {
     "name": "stdout",
     "output_type": "stream",
     "text": [
      "Course earn skills not found\n",
      "Course earn skills not found\n"
     ]
    },
    {
     "name": "stderr",
     "output_type": "stream",
     "text": [
      " 31%|███       | 26/84 [01:30<03:45,  3.89s/it]"
     ]
    },
    {
     "name": "stdout",
     "output_type": "stream",
     "text": [
      "Course earn skills not found\n",
      "Course earn skills not found\n"
     ]
    },
    {
     "name": "stderr",
     "output_type": "stream",
     "text": [
      " 32%|███▏      | 27/84 [01:34<03:48,  4.00s/it]"
     ]
    },
    {
     "name": "stdout",
     "output_type": "stream",
     "text": [
      "Course earn skills not found\n",
      "Course earn skills not found\n"
     ]
    },
    {
     "name": "stderr",
     "output_type": "stream",
     "text": [
      " 33%|███▎      | 28/84 [01:39<03:57,  4.24s/it]"
     ]
    },
    {
     "name": "stdout",
     "output_type": "stream",
     "text": [
      "Course earn skills not found\n"
     ]
    },
    {
     "name": "stderr",
     "output_type": "stream",
     "text": [
      " 35%|███▍      | 29/84 [01:43<03:46,  4.11s/it]"
     ]
    },
    {
     "name": "stdout",
     "output_type": "stream",
     "text": [
      "Course earn skills not found\n"
     ]
    },
    {
     "name": "stderr",
     "output_type": "stream",
     "text": [
      " 36%|███▌      | 30/84 [01:48<03:53,  4.32s/it]"
     ]
    },
    {
     "name": "stdout",
     "output_type": "stream",
     "text": [
      "Course earn skills not found\n"
     ]
    },
    {
     "name": "stderr",
     "output_type": "stream",
     "text": [
      " 39%|███▉      | 33/84 [01:57<03:01,  3.56s/it]"
     ]
    },
    {
     "name": "stdout",
     "output_type": "stream",
     "text": [
      "Course earn skills not found\n",
      "Course earn skills not found\n"
     ]
    },
    {
     "name": "stderr",
     "output_type": "stream",
     "text": [
      " 40%|████      | 34/84 [02:02<03:18,  3.97s/it]"
     ]
    },
    {
     "name": "stdout",
     "output_type": "stream",
     "text": [
      "Course earn skills not found\n",
      "Course earn skills not found\n",
      "Course earn skills not found\n",
      "Course earn skills not found\n",
      "Course earn skills not found\n"
     ]
    },
    {
     "name": "stderr",
     "output_type": "stream",
     "text": [
      " 43%|████▎     | 36/84 [02:12<03:30,  4.38s/it]"
     ]
    },
    {
     "name": "stdout",
     "output_type": "stream",
     "text": [
      "Course earn skills not found\n",
      "Course earn skills not found\n"
     ]
    },
    {
     "name": "stderr",
     "output_type": "stream",
     "text": [
      " 45%|████▌     | 38/84 [02:19<02:56,  3.84s/it]"
     ]
    },
    {
     "name": "stdout",
     "output_type": "stream",
     "text": [
      "Course earn skills not found\n"
     ]
    },
    {
     "name": "stderr",
     "output_type": "stream",
     "text": [
      " 48%|████▊     | 40/84 [02:26<02:39,  3.63s/it]"
     ]
    },
    {
     "name": "stdout",
     "output_type": "stream",
     "text": [
      "Course earn skills not found\n"
     ]
    },
    {
     "name": "stderr",
     "output_type": "stream",
     "text": [
      " 49%|████▉     | 41/84 [02:28<02:26,  3.40s/it]"
     ]
    },
    {
     "name": "stdout",
     "output_type": "stream",
     "text": [
      "Course earn skills not found\n"
     ]
    },
    {
     "name": "stderr",
     "output_type": "stream",
     "text": [
      " 50%|█████     | 42/84 [02:33<02:32,  3.64s/it]"
     ]
    },
    {
     "name": "stdout",
     "output_type": "stream",
     "text": [
      "Course earn skills not found\n",
      "Course earn skills not found\n",
      "Course earn skills not found\n"
     ]
    },
    {
     "name": "stderr",
     "output_type": "stream",
     "text": [
      " 52%|█████▏    | 44/84 [02:40<02:20,  3.52s/it]"
     ]
    },
    {
     "name": "stdout",
     "output_type": "stream",
     "text": [
      "Course earn skills not found\n",
      "Course earn skills not found\n"
     ]
    },
    {
     "name": "stderr",
     "output_type": "stream",
     "text": [
      " 54%|█████▎    | 45/84 [02:43<02:21,  3.62s/it]"
     ]
    },
    {
     "name": "stdout",
     "output_type": "stream",
     "text": [
      "Course earn skills not found\n",
      "Course earn skills not found\n",
      "Course earn skills not found\n",
      "Course earn skills not found\n"
     ]
    },
    {
     "name": "stderr",
     "output_type": "stream",
     "text": [
      " 55%|█████▍    | 46/84 [02:51<02:56,  4.65s/it]"
     ]
    },
    {
     "name": "stdout",
     "output_type": "stream",
     "text": [
      "Course earn skills not found\n",
      "Course earn skills not found\n"
     ]
    },
    {
     "name": "stderr",
     "output_type": "stream",
     "text": [
      " 56%|█████▌    | 47/84 [02:55<02:53,  4.68s/it]"
     ]
    },
    {
     "name": "stdout",
     "output_type": "stream",
     "text": [
      "Course earn skills not found\n",
      "Course earn skills not found\n"
     ]
    },
    {
     "name": "stderr",
     "output_type": "stream",
     "text": [
      " 57%|█████▋    | 48/84 [03:00<02:47,  4.66s/it]"
     ]
    },
    {
     "name": "stdout",
     "output_type": "stream",
     "text": [
      "Course earn skills not found\n",
      "Course earn skills not found\n"
     ]
    },
    {
     "name": "stderr",
     "output_type": "stream",
     "text": [
      " 58%|█████▊    | 49/84 [03:05<02:51,  4.89s/it]"
     ]
    },
    {
     "name": "stdout",
     "output_type": "stream",
     "text": [
      "Course earn skills not found\n"
     ]
    },
    {
     "name": "stderr",
     "output_type": "stream",
     "text": [
      " 60%|█████▉    | 50/84 [03:09<02:31,  4.45s/it]"
     ]
    },
    {
     "name": "stdout",
     "output_type": "stream",
     "text": [
      "Course earn skills not found\n",
      "Course earn skills not found\n"
     ]
    },
    {
     "name": "stderr",
     "output_type": "stream",
     "text": [
      " 61%|██████    | 51/84 [03:14<02:32,  4.62s/it]"
     ]
    },
    {
     "name": "stdout",
     "output_type": "stream",
     "text": [
      "Course earn skills not found\n",
      "Course earn skills not found\n",
      "Course earn skills not found\n",
      "Course earn skills not found\n"
     ]
    },
    {
     "name": "stderr",
     "output_type": "stream",
     "text": [
      " 62%|██████▏   | 52/84 [03:20<02:40,  5.02s/it]"
     ]
    },
    {
     "name": "stdout",
     "output_type": "stream",
     "text": [
      "Course earn skills not found\n"
     ]
    },
    {
     "name": "stderr",
     "output_type": "stream",
     "text": [
      " 64%|██████▍   | 54/84 [03:29<02:21,  4.73s/it]"
     ]
    },
    {
     "name": "stdout",
     "output_type": "stream",
     "text": [
      "Course earn skills not found\n",
      "Course earn skills not found\n"
     ]
    },
    {
     "name": "stderr",
     "output_type": "stream",
     "text": [
      " 65%|██████▌   | 55/84 [03:36<02:39,  5.49s/it]"
     ]
    },
    {
     "name": "stdout",
     "output_type": "stream",
     "text": [
      "Course earn skills not found\n",
      "Course earn skills not found\n"
     ]
    },
    {
     "name": "stderr",
     "output_type": "stream",
     "text": [
      " 67%|██████▋   | 56/84 [03:43<02:45,  5.92s/it]"
     ]
    },
    {
     "name": "stdout",
     "output_type": "stream",
     "text": [
      "Course earn skills not found\n",
      "Course earn skills not found\n",
      "Course earn skills not found\n",
      "Course earn skills not found\n",
      "Course earn skills not found\n"
     ]
    },
    {
     "name": "stderr",
     "output_type": "stream",
     "text": [
      " 68%|██████▊   | 57/84 [03:53<03:14,  7.21s/it]"
     ]
    },
    {
     "name": "stdout",
     "output_type": "stream",
     "text": [
      "Course earn skills not found\n"
     ]
    },
    {
     "name": "stderr",
     "output_type": "stream",
     "text": [
      " 69%|██████▉   | 58/84 [04:01<03:08,  7.25s/it]"
     ]
    },
    {
     "name": "stdout",
     "output_type": "stream",
     "text": [
      "Course earn skills not found\n",
      "Course earn skills not found\n"
     ]
    },
    {
     "name": "stderr",
     "output_type": "stream",
     "text": [
      " 70%|███████   | 59/84 [04:06<02:49,  6.76s/it]"
     ]
    },
    {
     "name": "stdout",
     "output_type": "stream",
     "text": [
      "Course earn skills not found\n"
     ]
    },
    {
     "name": "stderr",
     "output_type": "stream",
     "text": [
      " 71%|███████▏  | 60/84 [04:11<02:30,  6.26s/it]"
     ]
    },
    {
     "name": "stdout",
     "output_type": "stream",
     "text": [
      "Course earn skills not found\n"
     ]
    },
    {
     "name": "stderr",
     "output_type": "stream",
     "text": [
      " 73%|███████▎  | 61/84 [04:16<02:12,  5.75s/it]"
     ]
    },
    {
     "name": "stdout",
     "output_type": "stream",
     "text": [
      "Course earn skills not found\n"
     ]
    },
    {
     "name": "stderr",
     "output_type": "stream",
     "text": [
      " 74%|███████▍  | 62/84 [04:21<02:00,  5.48s/it]"
     ]
    },
    {
     "name": "stdout",
     "output_type": "stream",
     "text": [
      "Course earn skills not found\n",
      "Course earn skills not found\n"
     ]
    },
    {
     "name": "stderr",
     "output_type": "stream",
     "text": [
      " 75%|███████▌  | 63/84 [04:28<02:04,  5.91s/it]"
     ]
    },
    {
     "name": "stdout",
     "output_type": "stream",
     "text": [
      "Course earn skills not found\n",
      "Course earn skills not found\n"
     ]
    },
    {
     "name": "stderr",
     "output_type": "stream",
     "text": [
      " 76%|███████▌  | 64/84 [04:35<02:08,  6.44s/it]"
     ]
    },
    {
     "name": "stdout",
     "output_type": "stream",
     "text": [
      "Course earn skills not found\n"
     ]
    },
    {
     "name": "stderr",
     "output_type": "stream",
     "text": [
      " 77%|███████▋  | 65/84 [04:43<02:10,  6.88s/it]"
     ]
    },
    {
     "name": "stdout",
     "output_type": "stream",
     "text": [
      "Course earn skills not found\n",
      "Course earn skills not found\n",
      "Course earn skills not found\n",
      "Course earn skills not found\n"
     ]
    },
    {
     "name": "stderr",
     "output_type": "stream",
     "text": [
      " 79%|███████▊  | 66/84 [04:50<02:05,  6.95s/it]"
     ]
    },
    {
     "name": "stdout",
     "output_type": "stream",
     "text": [
      "Course earn skills not found\n"
     ]
    },
    {
     "name": "stderr",
     "output_type": "stream",
     "text": [
      " 80%|███████▉  | 67/84 [04:55<01:45,  6.19s/it]"
     ]
    },
    {
     "name": "stdout",
     "output_type": "stream",
     "text": [
      "Course earn skills not found\n",
      "Course earn skills not found\n"
     ]
    },
    {
     "name": "stderr",
     "output_type": "stream",
     "text": [
      " 82%|████████▏ | 69/84 [05:04<01:18,  5.26s/it]"
     ]
    },
    {
     "name": "stdout",
     "output_type": "stream",
     "text": [
      "Course earn skills not found\n",
      "Course earn skills not found\n",
      "Course earn skills not found\n"
     ]
    },
    {
     "name": "stderr",
     "output_type": "stream",
     "text": [
      " 83%|████████▎ | 70/84 [05:11<01:20,  5.74s/it]"
     ]
    },
    {
     "name": "stdout",
     "output_type": "stream",
     "text": [
      "Course earn skills not found\n"
     ]
    },
    {
     "name": "stderr",
     "output_type": "stream",
     "text": [
      " 85%|████████▍ | 71/84 [05:17<01:14,  5.71s/it]"
     ]
    },
    {
     "name": "stdout",
     "output_type": "stream",
     "text": [
      "Course earn skills not found\n"
     ]
    },
    {
     "name": "stderr",
     "output_type": "stream",
     "text": [
      " 86%|████████▌ | 72/84 [05:23<01:10,  5.86s/it]"
     ]
    },
    {
     "name": "stdout",
     "output_type": "stream",
     "text": [
      "Course earn skills not found\n",
      "Course earn skills not found\n"
     ]
    },
    {
     "name": "stderr",
     "output_type": "stream",
     "text": [
      " 87%|████████▋ | 73/84 [05:30<01:07,  6.13s/it]"
     ]
    },
    {
     "name": "stdout",
     "output_type": "stream",
     "text": [
      "Course earn skills not found\n",
      "Course earn skills not found\n",
      "Course earn skills not found\n"
     ]
    },
    {
     "name": "stderr",
     "output_type": "stream",
     "text": [
      " 88%|████████▊ | 74/84 [05:38<01:08,  6.87s/it]"
     ]
    },
    {
     "name": "stdout",
     "output_type": "stream",
     "text": [
      "Course earn skills not found\n",
      "Course earn skills not found\n"
     ]
    },
    {
     "name": "stderr",
     "output_type": "stream",
     "text": [
      " 89%|████████▉ | 75/84 [05:44<00:59,  6.61s/it]"
     ]
    },
    {
     "name": "stdout",
     "output_type": "stream",
     "text": [
      "Course earn skills not found\n"
     ]
    },
    {
     "name": "stderr",
     "output_type": "stream",
     "text": [
      " 90%|█████████ | 76/84 [05:47<00:43,  5.50s/it]"
     ]
    },
    {
     "name": "stdout",
     "output_type": "stream",
     "text": [
      "Course earn skills not found\n",
      "Course earn skills not found\n"
     ]
    },
    {
     "name": "stderr",
     "output_type": "stream",
     "text": [
      " 92%|█████████▏| 77/84 [05:52<00:37,  5.31s/it]"
     ]
    },
    {
     "name": "stdout",
     "output_type": "stream",
     "text": [
      "Course earn skills not found\n"
     ]
    },
    {
     "name": "stderr",
     "output_type": "stream",
     "text": [
      " 93%|█████████▎| 78/84 [05:58<00:33,  5.52s/it]"
     ]
    },
    {
     "name": "stdout",
     "output_type": "stream",
     "text": [
      "Course earn skills not found\n",
      "Course earn skills not found\n",
      "Course earn skills not found\n"
     ]
    },
    {
     "name": "stderr",
     "output_type": "stream",
     "text": [
      " 94%|█████████▍| 79/84 [06:06<00:30,  6.18s/it]"
     ]
    },
    {
     "name": "stdout",
     "output_type": "stream",
     "text": [
      "Course earn skills not found\n"
     ]
    },
    {
     "name": "stderr",
     "output_type": "stream",
     "text": [
      " 95%|█████████▌| 80/84 [06:15<00:28,  7.08s/it]"
     ]
    },
    {
     "name": "stdout",
     "output_type": "stream",
     "text": [
      "Course earn skills not found\n"
     ]
    },
    {
     "name": "stderr",
     "output_type": "stream",
     "text": [
      " 96%|█████████▋| 81/84 [06:22<00:21,  7.13s/it]"
     ]
    },
    {
     "name": "stdout",
     "output_type": "stream",
     "text": [
      "Course earn skills not found\n"
     ]
    },
    {
     "name": "stderr",
     "output_type": "stream",
     "text": [
      " 99%|█████████▉| 83/84 [06:34<00:06,  6.43s/it]"
     ]
    },
    {
     "name": "stdout",
     "output_type": "stream",
     "text": [
      "5 : Not Found\n",
      "6 : Not Found\n",
      "7 : Not Found\n",
      "8 : Not Found\n",
      "9 : Not Found\n",
      "10 : Not Found\n",
      "11 : Not Found\n"
     ]
    },
    {
     "name": "stderr",
     "output_type": "stream",
     "text": [
      "100%|██████████| 84/84 [06:42<00:00,  4.79s/it]"
     ]
    },
    {
     "name": "stdout",
     "output_type": "stream",
     "text": [
      "12 : Not Found\n"
     ]
    },
    {
     "name": "stderr",
     "output_type": "stream",
     "text": [
      "\n"
     ]
    }
   ],
   "source": [
    "from selenium.webdriver.common.by import By\n",
    "import pandas as pd  # for dataset creation\n",
    "from tqdm import tqdm  # tracing for loop\n",
    "\n",
    "df = pd.read_csv('./Coursera_courses.csv')  # open an empty csv file to avoid data loss\n",
    "for page in tqdm(range(1, 85)):\n",
    "    driver.get(f'https://www.coursera.org/courses?page={page}')\n",
    "    for i in range(1, 13):  # 12 courses details on every page\n",
    "        try:\n",
    "            card = driver.find_element(By.XPATH,\n",
    "                           '/html/body/div[2]/div/div/main/div[1]/div/div/div/div/div[2]/ul/li[{}]/div/div/div/div'.format(i))\n",
    "\n",
    "            course_name = ''\n",
    "            try:\n",
    "                course_name = card.find_element(By.CLASS_NAME, 'cds-CommonCard-title').text\n",
    "            except NoSuchElementException:\n",
    "                print('Course name not found')\n",
    "            \n",
    "            institution = ''\n",
    "            try:\n",
    "                institution = card.find_element(By.CLASS_NAME, 'cds-ProductCard-partnerNames').text\n",
    "            except NoSuchElementException:\n",
    "                print('Course institution not found')\n",
    "            \n",
    "            earn_skills = ''\n",
    "            try:\n",
    "                earn_skills = card.find_element(By.CLASS_NAME, 'cds-CommonCard-bodyContent').text\n",
    "            except NoSuchElementException:\n",
    "                print('Course earn skills not found')\n",
    "                \n",
    "            course_link = ''\n",
    "            try:\n",
    "                course_link = card.find_element(By.CLASS_NAME, 'cds-CommonCard-titleLink').get_attribute('href')\n",
    "            except NoSuchElementException:\n",
    "                print('Course link not found')\n",
    "                \n",
    "            course_rating = ''\n",
    "            try:\n",
    "                course_rating = card.find_element(By.XPATH, \"//p[contains(@class, 'cds-119 css-11uuo4b cds-121')]\").text\n",
    "            except NoSuchElementException:\n",
    "                print('Course rating not found')\n",
    "                \n",
    "            metadata = ''\n",
    "            try:\n",
    "                metadata = card.find_element(By.CLASS_NAME, \"cds-CommonCard-metadata\").text.replace(' · ', ' ')\n",
    "            except NoSuchElementException:\n",
    "                print('Course metadata not found')\n",
    "            \n",
    "            # print(course_name)\n",
    "            # print(institution)\n",
    "            # print(earn_skills)\n",
    "            # print(course_link)\n",
    "            # print(course_rating)\n",
    "            # print(metadata)\n",
    "\n",
    "            # appending all data in data file\n",
    "            df.loc[len(df)] = {\n",
    "                    'course_name': course_name,\n",
    "                    'course_rating': course_rating,\n",
    "                    'earn_skills': earn_skills,\n",
    "                    'course_link': course_link,\n",
    "                    'institution': institution,\n",
    "                    'metadata': metadata,\n",
    "                }\n",
    "            # saving as csv file\n",
    "            df.to_csv('./Coursera_courses.csv')\n",
    "        except NoSuchElementException:\n",
    "            print(i, \": Not Found\")\n",
    "            pass"
   ]
  },
  {
   "cell_type": "code",
   "outputs": [],
   "source": [
    "df.shape"
   ],
   "metadata": {
    "collapsed": false,
    "ExecuteTime": {
     "start_time": "2024-02-16T15:31:38.569091300Z"
    }
   },
   "id": "9457b93507af0208",
   "execution_count": null
  },
  {
   "cell_type": "code",
   "outputs": [],
   "source": [
    "df = df.drop_duplicates()"
   ],
   "metadata": {
    "collapsed": false,
    "ExecuteTime": {
     "start_time": "2024-02-16T15:31:38.571092600Z"
    }
   },
   "id": "58ed2fc2dd51884d",
   "execution_count": null
  },
  {
   "cell_type": "code",
   "outputs": [],
   "source": [
    "df.shape"
   ],
   "metadata": {
    "collapsed": false,
    "ExecuteTime": {
     "start_time": "2024-02-16T15:31:38.573090900Z"
    }
   },
   "id": "d37fc94a66b665f9",
   "execution_count": null
  },
  {
   "cell_type": "code",
   "outputs": [],
   "source": [
    "df.to_csv('./Coursera_courses.csv')"
   ],
   "metadata": {
    "collapsed": false,
    "ExecuteTime": {
     "start_time": "2024-02-16T15:31:38.574090Z"
    }
   },
   "id": "8198ed43dab7c959",
   "execution_count": null
  }
 ],
 "metadata": {
  "kernelspec": {
   "name": "python3",
   "language": "python",
   "display_name": "Python 3 (ipykernel)"
  },
  "language_info": {
   "codemirror_mode": {
    "name": "ipython",
    "version": 3
   },
   "file_extension": ".py",
   "mimetype": "text/x-python",
   "name": "python",
   "nbconvert_exporter": "python",
   "pygments_lexer": "ipython3",
   "version": "3.9.7"
  }
 },
 "nbformat": 4,
 "nbformat_minor": 5
}
