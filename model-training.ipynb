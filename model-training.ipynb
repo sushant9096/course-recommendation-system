{
 "cells": [
  {
   "cell_type": "code",
   "execution_count": 1,
   "id": "64bda0e1a541e2ad",
   "metadata": {
    "ExecuteTime": {
     "end_time": "2024-02-17T14:57:29.654447600Z",
     "start_time": "2024-02-17T14:57:29.612432400Z"
    }
   },
   "outputs": [],
   "source": [
    "# Importing Dependencies"
   ]
  },
  {
   "cell_type": "code",
   "execution_count": 2,
   "id": "f75344c5",
   "metadata": {
    "execution": {
     "iopub.execute_input": "2022-01-26T14:19:43.344315Z",
     "iopub.status.busy": "2022-01-26T14:19:43.343625Z",
     "iopub.status.idle": "2022-01-26T14:19:44.396797Z",
     "shell.execute_reply": "2022-01-26T14:19:44.396055Z",
     "shell.execute_reply.started": "2022-01-26T12:46:03.692767Z"
    },
    "papermill": {
     "duration": 1.112674,
     "end_time": "2022-01-26T14:19:44.396964",
     "exception": false,
     "start_time": "2022-01-26T14:19:43.284290",
     "status": "completed"
    },
    "tags": [],
    "ExecuteTime": {
     "end_time": "2024-02-17T14:57:32.223255800Z",
     "start_time": "2024-02-17T14:57:30.479450100Z"
    }
   },
   "outputs": [
    {
     "name": "stdout",
     "output_type": "stream",
     "text": [
      "Dependencies Imported\n"
     ]
    }
   ],
   "source": [
    "import os\n",
    "import numpy as np\n",
    "import pandas as pd\n",
    "import matplotlib.pyplot as plt\n",
    "# import seaborn as sns\n",
    "print('Dependencies Imported')"
   ]
  },
  {
   "cell_type": "code",
   "execution_count": 3,
   "id": "e3536ee1",
   "metadata": {
    "execution": {
     "iopub.execute_input": "2022-01-26T14:19:44.502712Z",
     "iopub.status.busy": "2022-01-26T14:19:44.501653Z",
     "iopub.status.idle": "2022-01-26T14:19:44.700849Z",
     "shell.execute_reply": "2022-01-26T14:19:44.701361Z",
     "shell.execute_reply.started": "2022-01-26T12:46:47.573105Z"
    },
    "papermill": {
     "duration": 0.253163,
     "end_time": "2022-01-26T14:19:44.701566",
     "exception": false,
     "start_time": "2022-01-26T14:19:44.448403",
     "status": "completed"
    },
    "tags": [],
    "ExecuteTime": {
     "end_time": "2024-02-17T14:57:32.876707300Z",
     "start_time": "2024-02-17T14:57:32.843157100Z"
    }
   },
   "outputs": [],
   "source": [
    "data = pd.read_csv(\"./data-scraping/Coursera_courses.csv\")\n",
    "data.head(5)\n",
    "data.drop_duplicates(inplace=True, ignore_index=True)"
   ]
  },
  {
   "cell_type": "code",
   "execution_count": 4,
   "id": "491e767d65698b87",
   "metadata": {
    "ExecuteTime": {
     "end_time": "2024-02-17T14:57:35.274894700Z",
     "start_time": "2024-02-17T14:57:35.202388800Z"
    }
   },
   "outputs": [
    {
     "data": {
      "text/plain": "0"
     },
     "execution_count": 4,
     "metadata": {},
     "output_type": "execute_result"
    }
   ],
   "source": [
    "data.duplicated(subset=['course_name', 'course_rating', 'earn_skills', 'course_link', 'institution', 'metadata']).sum()"
   ]
  },
  {
   "cell_type": "markdown",
   "id": "61b6ec6b8c7283e6",
   "metadata": {},
   "source": [
    "# Basic Data Analysis"
   ]
  },
  {
   "cell_type": "code",
   "execution_count": 5,
   "id": "456599efd8ccc7c1",
   "metadata": {
    "ExecuteTime": {
     "end_time": "2024-02-17T14:57:37.612802300Z",
     "start_time": "2024-02-17T14:57:37.564213100Z"
    }
   },
   "outputs": [
    {
     "data": {
      "text/plain": "(1000, 7)"
     },
     "execution_count": 5,
     "metadata": {},
     "output_type": "execute_result"
    }
   ],
   "source": [
    "data.shape #37556 jobs and 12 columns with different attributes"
   ]
  },
  {
   "cell_type": "code",
   "execution_count": 6,
   "id": "c1882e65c210c490",
   "metadata": {
    "ExecuteTime": {
     "end_time": "2024-02-17T14:57:39.231817900Z",
     "start_time": "2024-02-17T14:57:39.193778600Z"
    }
   },
   "outputs": [
    {
     "name": "stdout",
     "output_type": "stream",
     "text": [
      "     Unnamed: 0                                  course_name  course_rating  \\\n",
      "0             0                         Google Cybersecurity            4.8   \n",
      "1             1                        Google Data Analytics            4.8   \n",
      "2             2                   Google Project Management:            4.8   \n",
      "3             3                             IBM Data Science            4.8   \n",
      "4             4        Google Digital Marketing & E-commerce            4.8   \n",
      "..          ...                                          ...            ...   \n",
      "995         995                   Akamai Network Engineering            4.6   \n",
      "996         996                           Ethical Leadership            4.8   \n",
      "997         997        Introduction to Scrum Master Training            4.8   \n",
      "998         998  C++ Programming for Unreal Game Development            4.8   \n",
      "999         999                    Compensation and Benefits            4.8   \n",
      "\n",
      "                                           earn_skills  \\\n",
      "0    Skills you'll gain: Network Security, Python P...   \n",
      "1    Skills you'll gain: Data Analysis, R Programmi...   \n",
      "2    Skills you'll gain: Project Management, Strate...   \n",
      "3    Skills you'll gain: Python Programming, Machin...   \n",
      "4    Skills you'll gain: Digital Marketing, Marketi...   \n",
      "..                                                 ...   \n",
      "995  Skills you'll gain: Computer Security Incident...   \n",
      "996  Skills you'll gain: Leadership and Management,...   \n",
      "997  Skills you'll gain: Agile Software Development...   \n",
      "998  Skills you'll gain: Computer Programming, C Pr...   \n",
      "999         Skills you'll gain: Benefits, Compensation   \n",
      "\n",
      "                                           course_link  \\\n",
      "0    https://www.coursera.org/professional-certific...   \n",
      "1    https://www.coursera.org/professional-certific...   \n",
      "2    https://www.coursera.org/professional-certific...   \n",
      "3    https://www.coursera.org/professional-certific...   \n",
      "4    https://www.coursera.org/professional-certific...   \n",
      "..                                                 ...   \n",
      "995  https://www.coursera.org/professional-certific...   \n",
      "996  https://www.coursera.org/specializations/ethic...   \n",
      "997  https://www.coursera.org/learn/introduction-to...   \n",
      "998  https://www.coursera.org/specializations/cplus...   \n",
      "999  https://www.coursera.org/learn/compensation-an...   \n",
      "\n",
      "                       institution  \\\n",
      "0                           Google   \n",
      "1                           Google   \n",
      "2                           Google   \n",
      "3                              IBM   \n",
      "4                           Google   \n",
      "..                             ...   \n",
      "995      Akamai Technologies, Inc.   \n",
      "996   The University of Notre Dame   \n",
      "997                     LearnQuest   \n",
      "998  University of Colorado System   \n",
      "999                           HRCI   \n",
      "\n",
      "                                           metadata  \n",
      "0    Beginner Professional Certificate 3 - 6 Months  \n",
      "1    Beginner Professional Certificate 3 - 6 Months  \n",
      "2    Beginner Professional Certificate 3 - 6 Months  \n",
      "3    Beginner Professional Certificate 3 - 6 Months  \n",
      "4    Beginner Professional Certificate 3 - 6 Months  \n",
      "..                                              ...  \n",
      "995  Beginner Professional Certificate 3 - 6 Months  \n",
      "996            Beginner Specialization 3 - 6 Months  \n",
      "997                    Beginner Course 1 - 3 Months  \n",
      "998        Intermediate Specialization 3 - 6 Months  \n",
      "999                     Beginner Course 1 - 4 Weeks  \n",
      "\n",
      "[1000 rows x 7 columns]\n"
     ]
    }
   ],
   "source": [
    "print(data)"
   ]
  },
  {
   "cell_type": "code",
   "execution_count": 7,
   "id": "0993059a",
   "metadata": {
    "execution": {
     "iopub.execute_input": "2022-01-26T14:19:45.041493Z",
     "iopub.status.busy": "2022-01-26T14:19:45.040248Z",
     "iopub.status.idle": "2022-01-26T14:19:45.060303Z",
     "shell.execute_reply": "2022-01-26T14:19:45.061266Z",
     "shell.execute_reply.started": "2022-01-26T12:46:50.515284Z"
    },
    "papermill": {
     "duration": 0.097295,
     "end_time": "2022-01-26T14:19:45.061496",
     "exception": false,
     "start_time": "2022-01-26T14:19:44.964201",
     "status": "completed"
    },
    "tags": [],
    "ExecuteTime": {
     "end_time": "2024-02-17T14:57:41.528058800Z",
     "start_time": "2024-02-17T14:57:41.498058700Z"
    }
   },
   "outputs": [
    {
     "name": "stdout",
     "output_type": "stream",
     "text": [
      "<class 'pandas.core.frame.DataFrame'>\n",
      "RangeIndex: 1000 entries, 0 to 999\n",
      "Data columns (total 7 columns):\n",
      " #   Column         Non-Null Count  Dtype  \n",
      "---  ------         --------------  -----  \n",
      " 0   Unnamed: 0     1000 non-null   int64  \n",
      " 1   course_name    1000 non-null   object \n",
      " 2   course_rating  1000 non-null   float64\n",
      " 3   earn_skills    901 non-null    object \n",
      " 4   course_link    1000 non-null   object \n",
      " 5   institution    1000 non-null   object \n",
      " 6   metadata       1000 non-null   object \n",
      "dtypes: float64(1), int64(1), object(5)\n",
      "memory usage: 54.8+ KB\n"
     ]
    }
   ],
   "source": [
    "data.info()"
   ]
  },
  {
   "cell_type": "code",
   "execution_count": 8,
   "id": "65c2dc88",
   "metadata": {
    "execution": {
     "iopub.execute_input": "2022-01-26T14:19:45.179184Z",
     "iopub.status.busy": "2022-01-26T14:19:45.178159Z",
     "iopub.status.idle": "2022-01-26T14:19:45.189975Z",
     "shell.execute_reply": "2022-01-26T14:19:45.190569Z",
     "shell.execute_reply.started": "2022-01-26T12:46:50.913696Z"
    },
    "papermill": {
     "duration": 0.068015,
     "end_time": "2022-01-26T14:19:45.190768",
     "exception": false,
     "start_time": "2022-01-26T14:19:45.122753",
     "status": "completed"
    },
    "tags": [],
    "ExecuteTime": {
     "end_time": "2024-02-17T14:57:43.224810500Z",
     "start_time": "2024-02-17T14:57:43.159564300Z"
    }
   },
   "outputs": [
    {
     "data": {
      "text/plain": "Unnamed: 0        0\ncourse_name       0\ncourse_rating     0\nearn_skills      99\ncourse_link       0\ninstitution       0\nmetadata          0\ndtype: int64"
     },
     "execution_count": 8,
     "metadata": {},
     "output_type": "execute_result"
    }
   ],
   "source": [
    "data.isnull().sum() #no value is missing"
   ]
  },
  {
   "cell_type": "code",
   "execution_count": 9,
   "id": "42f0e96a",
   "metadata": {
    "execution": {
     "iopub.execute_input": "2022-01-26T14:19:45.985862Z",
     "iopub.status.busy": "2022-01-26T14:19:45.984756Z",
     "iopub.status.idle": "2022-01-26T14:19:45.990667Z",
     "shell.execute_reply": "2022-01-26T14:19:45.991205Z",
     "shell.execute_reply.started": "2022-01-26T12:49:25.396394Z"
    },
    "papermill": {
     "duration": 0.064324,
     "end_time": "2022-01-26T14:19:45.991385",
     "exception": false,
     "start_time": "2022-01-26T14:19:45.927061",
     "status": "completed"
    },
    "tags": [],
    "ExecuteTime": {
     "end_time": "2024-02-17T14:57:56.133377Z",
     "start_time": "2024-02-17T14:57:56.042798600Z"
    }
   },
   "outputs": [],
   "source": [
    "data = data[['course_name', 'course_rating', 'earn_skills', 'course_link', 'institution', 'metadata']]"
   ]
  },
  {
   "cell_type": "code",
   "execution_count": 10,
   "id": "04cc92ed",
   "metadata": {
    "execution": {
     "iopub.execute_input": "2022-01-26T14:19:46.104150Z",
     "iopub.status.busy": "2022-01-26T14:19:46.103123Z",
     "iopub.status.idle": "2022-01-26T14:19:46.113861Z",
     "shell.execute_reply": "2022-01-26T14:19:46.114401Z",
     "shell.execute_reply.started": "2022-01-26T12:49:30.127057Z"
    },
    "papermill": {
     "duration": 0.067641,
     "end_time": "2022-01-26T14:19:46.114589",
     "exception": false,
     "start_time": "2022-01-26T14:19:46.046948",
     "status": "completed"
    },
    "tags": [],
    "ExecuteTime": {
     "end_time": "2024-02-17T14:57:57.389722300Z",
     "start_time": "2024-02-17T14:57:57.331688300Z"
    }
   },
   "outputs": [
    {
     "data": {
      "text/plain": "                             course_name  course_rating  \\\n0                   Google Cybersecurity            4.8   \n1                  Google Data Analytics            4.8   \n2             Google Project Management:            4.8   \n3                       IBM Data Science            4.8   \n4  Google Digital Marketing & E-commerce            4.8   \n\n                                         earn_skills  \\\n0  Skills you'll gain: Network Security, Python P...   \n1  Skills you'll gain: Data Analysis, R Programmi...   \n2  Skills you'll gain: Project Management, Strate...   \n3  Skills you'll gain: Python Programming, Machin...   \n4  Skills you'll gain: Digital Marketing, Marketi...   \n\n                                         course_link institution  \\\n0  https://www.coursera.org/professional-certific...      Google   \n1  https://www.coursera.org/professional-certific...      Google   \n2  https://www.coursera.org/professional-certific...      Google   \n3  https://www.coursera.org/professional-certific...         IBM   \n4  https://www.coursera.org/professional-certific...      Google   \n\n                                         metadata  \n0  Beginner Professional Certificate 3 - 6 Months  \n1  Beginner Professional Certificate 3 - 6 Months  \n2  Beginner Professional Certificate 3 - 6 Months  \n3  Beginner Professional Certificate 3 - 6 Months  \n4  Beginner Professional Certificate 3 - 6 Months  ",
      "text/html": "<div>\n<style scoped>\n    .dataframe tbody tr th:only-of-type {\n        vertical-align: middle;\n    }\n\n    .dataframe tbody tr th {\n        vertical-align: top;\n    }\n\n    .dataframe thead th {\n        text-align: right;\n    }\n</style>\n<table border=\"1\" class=\"dataframe\">\n  <thead>\n    <tr style=\"text-align: right;\">\n      <th></th>\n      <th>course_name</th>\n      <th>course_rating</th>\n      <th>earn_skills</th>\n      <th>course_link</th>\n      <th>institution</th>\n      <th>metadata</th>\n    </tr>\n  </thead>\n  <tbody>\n    <tr>\n      <th>0</th>\n      <td>Google Cybersecurity</td>\n      <td>4.8</td>\n      <td>Skills you'll gain: Network Security, Python P...</td>\n      <td>https://www.coursera.org/professional-certific...</td>\n      <td>Google</td>\n      <td>Beginner Professional Certificate 3 - 6 Months</td>\n    </tr>\n    <tr>\n      <th>1</th>\n      <td>Google Data Analytics</td>\n      <td>4.8</td>\n      <td>Skills you'll gain: Data Analysis, R Programmi...</td>\n      <td>https://www.coursera.org/professional-certific...</td>\n      <td>Google</td>\n      <td>Beginner Professional Certificate 3 - 6 Months</td>\n    </tr>\n    <tr>\n      <th>2</th>\n      <td>Google Project Management:</td>\n      <td>4.8</td>\n      <td>Skills you'll gain: Project Management, Strate...</td>\n      <td>https://www.coursera.org/professional-certific...</td>\n      <td>Google</td>\n      <td>Beginner Professional Certificate 3 - 6 Months</td>\n    </tr>\n    <tr>\n      <th>3</th>\n      <td>IBM Data Science</td>\n      <td>4.8</td>\n      <td>Skills you'll gain: Python Programming, Machin...</td>\n      <td>https://www.coursera.org/professional-certific...</td>\n      <td>IBM</td>\n      <td>Beginner Professional Certificate 3 - 6 Months</td>\n    </tr>\n    <tr>\n      <th>4</th>\n      <td>Google Digital Marketing &amp; E-commerce</td>\n      <td>4.8</td>\n      <td>Skills you'll gain: Digital Marketing, Marketi...</td>\n      <td>https://www.coursera.org/professional-certific...</td>\n      <td>Google</td>\n      <td>Beginner Professional Certificate 3 - 6 Months</td>\n    </tr>\n  </tbody>\n</table>\n</div>"
     },
     "execution_count": 10,
     "metadata": {},
     "output_type": "execute_result"
    }
   ],
   "source": [
    "data.head(5)"
   ]
  },
  {
   "cell_type": "markdown",
   "id": "631aeb3b",
   "metadata": {
    "papermill": {
     "duration": 0.052809,
     "end_time": "2022-01-26T14:19:46.221289",
     "exception": false,
     "start_time": "2022-01-26T14:19:46.168480",
     "status": "completed"
    },
    "tags": []
   },
   "source": [
    "# Data Pre-Processing\n",
    "\n",
    "An important part of the process is to pre-process the data into usable format for the recommendation system"
   ]
  },
  {
   "cell_type": "code",
   "execution_count": 11,
   "id": "e0df7188",
   "metadata": {
    "execution": {
     "iopub.execute_input": "2022-01-26T14:19:46.339162Z",
     "iopub.status.busy": "2022-01-26T14:19:46.338482Z",
     "iopub.status.idle": "2022-01-26T14:19:46.453299Z",
     "shell.execute_reply": "2022-01-26T14:19:46.453797Z",
     "shell.execute_reply.started": "2022-01-26T12:53:40.943775Z"
    },
    "papermill": {
     "duration": 0.177814,
     "end_time": "2022-01-26T14:19:46.453980",
     "exception": false,
     "start_time": "2022-01-26T14:19:46.276166",
     "status": "completed"
    },
    "tags": [],
    "ExecuteTime": {
     "end_time": "2024-02-17T14:58:02.470478800Z",
     "start_time": "2024-02-17T14:58:02.429852100Z"
    }
   },
   "outputs": [],
   "source": [
    "# Removing spaces between the words (Lambda functions can be used as well)\n",
    "\n",
    "data['course_name'] = data['course_name'].str.replace(' ',',')\n",
    "data['course_name'] = data['course_name'].str.replace(',,',',')\n",
    "data['course_name'] = data['course_name'].str.replace(':','')\n",
    "data['earn_skills'] = data['earn_skills'].str.replace(\"Skills you'll gain: \",\"\")\n",
    "data['earn_skills'] = data['earn_skills'].str.replace(' ',',')\n",
    "data['earn_skills'] = data['earn_skills'].str.replace(',,',',')\n",
    "data['earn_skills'] = data['earn_skills'].str.replace('_','')\n",
    "data['earn_skills'] = data['earn_skills'].str.replace(':','')\n",
    "data['earn_skills'] = data['earn_skills'].str.replace('(','')\n",
    "data['earn_skills'] = data['earn_skills'].str.replace(')','')\n",
    "data['metadata'] = data['metadata'].str.replace(' - ',',')\n",
    "data['metadata'] = data['metadata'].str.replace(' ',',')"
   ]
  },
  {
   "cell_type": "code",
   "execution_count": 13,
   "id": "624470d3",
   "metadata": {
    "execution": {
     "iopub.execute_input": "2022-01-26T14:19:46.566735Z",
     "iopub.status.busy": "2022-01-26T14:19:46.565969Z",
     "iopub.status.idle": "2022-01-26T14:19:46.576143Z",
     "shell.execute_reply": "2022-01-26T14:19:46.576719Z",
     "shell.execute_reply.started": "2022-01-26T12:53:53.653156Z"
    },
    "papermill": {
     "duration": 0.068556,
     "end_time": "2022-01-26T14:19:46.576919",
     "exception": false,
     "start_time": "2022-01-26T14:19:46.508363",
     "status": "completed"
    },
    "tags": [],
    "ExecuteTime": {
     "end_time": "2024-02-17T14:58:13.612399800Z",
     "start_time": "2024-02-17T14:58:13.576235500Z"
    }
   },
   "outputs": [
    {
     "data": {
      "text/plain": "                             course_name  course_rating  \\\n0                   Google,Cybersecurity            4.8   \n1                  Google,Data,Analytics            4.8   \n2              Google,Project,Management            4.8   \n3                       IBM,Data,Science            4.8   \n4  Google,Digital,Marketing,&,E-commerce            4.8   \n\n                                         earn_skills  \\\n0  Network,Security,Python,Programming,Linux,Clou...   \n1  Data,Analysis,R,Programming,SQL,Business,Commu...   \n2  Project,Management,Strategy,and,Operations,Lea...   \n3  Python,Programming,Machine,Learning,Data,Scien...   \n4  Digital,Marketing,Marketing,Marketing,Manageme...   \n\n                                         course_link institution  \\\n0  https://www.coursera.org/professional-certific...      Google   \n1  https://www.coursera.org/professional-certific...      Google   \n2  https://www.coursera.org/professional-certific...      Google   \n3  https://www.coursera.org/professional-certific...         IBM   \n4  https://www.coursera.org/professional-certific...      Google   \n\n                                       metadata  \n0  Beginner,Professional,Certificate,3,6,Months  \n1  Beginner,Professional,Certificate,3,6,Months  \n2  Beginner,Professional,Certificate,3,6,Months  \n3  Beginner,Professional,Certificate,3,6,Months  \n4  Beginner,Professional,Certificate,3,6,Months  ",
      "text/html": "<div>\n<style scoped>\n    .dataframe tbody tr th:only-of-type {\n        vertical-align: middle;\n    }\n\n    .dataframe tbody tr th {\n        vertical-align: top;\n    }\n\n    .dataframe thead th {\n        text-align: right;\n    }\n</style>\n<table border=\"1\" class=\"dataframe\">\n  <thead>\n    <tr style=\"text-align: right;\">\n      <th></th>\n      <th>course_name</th>\n      <th>course_rating</th>\n      <th>earn_skills</th>\n      <th>course_link</th>\n      <th>institution</th>\n      <th>metadata</th>\n    </tr>\n  </thead>\n  <tbody>\n    <tr>\n      <th>0</th>\n      <td>Google,Cybersecurity</td>\n      <td>4.8</td>\n      <td>Network,Security,Python,Programming,Linux,Clou...</td>\n      <td>https://www.coursera.org/professional-certific...</td>\n      <td>Google</td>\n      <td>Beginner,Professional,Certificate,3,6,Months</td>\n    </tr>\n    <tr>\n      <th>1</th>\n      <td>Google,Data,Analytics</td>\n      <td>4.8</td>\n      <td>Data,Analysis,R,Programming,SQL,Business,Commu...</td>\n      <td>https://www.coursera.org/professional-certific...</td>\n      <td>Google</td>\n      <td>Beginner,Professional,Certificate,3,6,Months</td>\n    </tr>\n    <tr>\n      <th>2</th>\n      <td>Google,Project,Management</td>\n      <td>4.8</td>\n      <td>Project,Management,Strategy,and,Operations,Lea...</td>\n      <td>https://www.coursera.org/professional-certific...</td>\n      <td>Google</td>\n      <td>Beginner,Professional,Certificate,3,6,Months</td>\n    </tr>\n    <tr>\n      <th>3</th>\n      <td>IBM,Data,Science</td>\n      <td>4.8</td>\n      <td>Python,Programming,Machine,Learning,Data,Scien...</td>\n      <td>https://www.coursera.org/professional-certific...</td>\n      <td>IBM</td>\n      <td>Beginner,Professional,Certificate,3,6,Months</td>\n    </tr>\n    <tr>\n      <th>4</th>\n      <td>Google,Digital,Marketing,&amp;,E-commerce</td>\n      <td>4.8</td>\n      <td>Digital,Marketing,Marketing,Marketing,Manageme...</td>\n      <td>https://www.coursera.org/professional-certific...</td>\n      <td>Google</td>\n      <td>Beginner,Professional,Certificate,3,6,Months</td>\n    </tr>\n  </tbody>\n</table>\n</div>"
     },
     "execution_count": 13,
     "metadata": {},
     "output_type": "execute_result"
    }
   ],
   "source": [
    "data.head(5)"
   ]
  },
  {
   "cell_type": "code",
   "execution_count": 14,
   "id": "7efa10a9",
   "metadata": {
    "execution": {
     "iopub.execute_input": "2022-01-26T14:19:46.805542Z",
     "iopub.status.busy": "2022-01-26T14:19:46.804854Z",
     "iopub.status.idle": "2022-01-26T14:19:46.823188Z",
     "shell.execute_reply": "2022-01-26T14:19:46.822651Z",
     "shell.execute_reply.started": "2022-01-26T12:55:58.319873Z"
    },
    "papermill": {
     "duration": 0.076499,
     "end_time": "2022-01-26T14:19:46.823340",
     "exception": false,
     "start_time": "2022-01-26T14:19:46.746841",
     "status": "completed"
    },
    "tags": [],
    "ExecuteTime": {
     "end_time": "2024-02-17T14:58:17.275496200Z",
     "start_time": "2024-02-17T14:58:17.256763400Z"
    }
   },
   "outputs": [],
   "source": [
    "data['tags'] = data['course_name'] + ',' + data['earn_skills'] + ',' +data['metadata']"
   ]
  },
  {
   "cell_type": "code",
   "execution_count": 15,
   "id": "eee80759",
   "metadata": {
    "execution": {
     "iopub.execute_input": "2022-01-26T14:19:46.937064Z",
     "iopub.status.busy": "2022-01-26T14:19:46.936365Z",
     "iopub.status.idle": "2022-01-26T14:19:46.948262Z",
     "shell.execute_reply": "2022-01-26T14:19:46.948878Z",
     "shell.execute_reply.started": "2022-01-26T12:56:03.509244Z"
    },
    "papermill": {
     "duration": 0.070316,
     "end_time": "2022-01-26T14:19:46.949049",
     "exception": false,
     "start_time": "2022-01-26T14:19:46.878733",
     "status": "completed"
    },
    "tags": [],
    "ExecuteTime": {
     "end_time": "2024-02-17T14:58:18.914856500Z",
     "start_time": "2024-02-17T14:58:18.885824600Z"
    }
   },
   "outputs": [
    {
     "data": {
      "text/plain": "                             course_name  course_rating  \\\n0                   Google,Cybersecurity            4.8   \n1                  Google,Data,Analytics            4.8   \n2              Google,Project,Management            4.8   \n3                       IBM,Data,Science            4.8   \n4  Google,Digital,Marketing,&,E-commerce            4.8   \n\n                                         earn_skills  \\\n0  Network,Security,Python,Programming,Linux,Clou...   \n1  Data,Analysis,R,Programming,SQL,Business,Commu...   \n2  Project,Management,Strategy,and,Operations,Lea...   \n3  Python,Programming,Machine,Learning,Data,Scien...   \n4  Digital,Marketing,Marketing,Marketing,Manageme...   \n\n                                         course_link institution  \\\n0  https://www.coursera.org/professional-certific...      Google   \n1  https://www.coursera.org/professional-certific...      Google   \n2  https://www.coursera.org/professional-certific...      Google   \n3  https://www.coursera.org/professional-certific...         IBM   \n4  https://www.coursera.org/professional-certific...      Google   \n\n                                       metadata  \\\n0  Beginner,Professional,Certificate,3,6,Months   \n1  Beginner,Professional,Certificate,3,6,Months   \n2  Beginner,Professional,Certificate,3,6,Months   \n3  Beginner,Professional,Certificate,3,6,Months   \n4  Beginner,Professional,Certificate,3,6,Months   \n\n                                                tags  \n0  Google,Cybersecurity,Network,Security,Python,P...  \n1  Google,Data,Analytics,Data,Analysis,R,Programm...  \n2  Google,Project,Management,Project,Management,S...  \n3  IBM,Data,Science,Python,Programming,Machine,Le...  \n4  Google,Digital,Marketing,&,E-commerce,Digital,...  ",
      "text/html": "<div>\n<style scoped>\n    .dataframe tbody tr th:only-of-type {\n        vertical-align: middle;\n    }\n\n    .dataframe tbody tr th {\n        vertical-align: top;\n    }\n\n    .dataframe thead th {\n        text-align: right;\n    }\n</style>\n<table border=\"1\" class=\"dataframe\">\n  <thead>\n    <tr style=\"text-align: right;\">\n      <th></th>\n      <th>course_name</th>\n      <th>course_rating</th>\n      <th>earn_skills</th>\n      <th>course_link</th>\n      <th>institution</th>\n      <th>metadata</th>\n      <th>tags</th>\n    </tr>\n  </thead>\n  <tbody>\n    <tr>\n      <th>0</th>\n      <td>Google,Cybersecurity</td>\n      <td>4.8</td>\n      <td>Network,Security,Python,Programming,Linux,Clou...</td>\n      <td>https://www.coursera.org/professional-certific...</td>\n      <td>Google</td>\n      <td>Beginner,Professional,Certificate,3,6,Months</td>\n      <td>Google,Cybersecurity,Network,Security,Python,P...</td>\n    </tr>\n    <tr>\n      <th>1</th>\n      <td>Google,Data,Analytics</td>\n      <td>4.8</td>\n      <td>Data,Analysis,R,Programming,SQL,Business,Commu...</td>\n      <td>https://www.coursera.org/professional-certific...</td>\n      <td>Google</td>\n      <td>Beginner,Professional,Certificate,3,6,Months</td>\n      <td>Google,Data,Analytics,Data,Analysis,R,Programm...</td>\n    </tr>\n    <tr>\n      <th>2</th>\n      <td>Google,Project,Management</td>\n      <td>4.8</td>\n      <td>Project,Management,Strategy,and,Operations,Lea...</td>\n      <td>https://www.coursera.org/professional-certific...</td>\n      <td>Google</td>\n      <td>Beginner,Professional,Certificate,3,6,Months</td>\n      <td>Google,Project,Management,Project,Management,S...</td>\n    </tr>\n    <tr>\n      <th>3</th>\n      <td>IBM,Data,Science</td>\n      <td>4.8</td>\n      <td>Python,Programming,Machine,Learning,Data,Scien...</td>\n      <td>https://www.coursera.org/professional-certific...</td>\n      <td>IBM</td>\n      <td>Beginner,Professional,Certificate,3,6,Months</td>\n      <td>IBM,Data,Science,Python,Programming,Machine,Le...</td>\n    </tr>\n    <tr>\n      <th>4</th>\n      <td>Google,Digital,Marketing,&amp;,E-commerce</td>\n      <td>4.8</td>\n      <td>Digital,Marketing,Marketing,Marketing,Manageme...</td>\n      <td>https://www.coursera.org/professional-certific...</td>\n      <td>Google</td>\n      <td>Beginner,Professional,Certificate,3,6,Months</td>\n      <td>Google,Digital,Marketing,&amp;,E-commerce,Digital,...</td>\n    </tr>\n  </tbody>\n</table>\n</div>"
     },
     "execution_count": 15,
     "metadata": {},
     "output_type": "execute_result"
    }
   ],
   "source": [
    "data.head(5)"
   ]
  },
  {
   "cell_type": "code",
   "execution_count": 16,
   "id": "66879f0c",
   "metadata": {
    "execution": {
     "iopub.execute_input": "2022-01-26T14:19:47.064568Z",
     "iopub.status.busy": "2022-01-26T14:19:47.063864Z",
     "iopub.status.idle": "2022-01-26T14:19:47.068955Z",
     "shell.execute_reply": "2022-01-26T14:19:47.069577Z",
     "shell.execute_reply.started": "2022-01-26T12:56:19.913202Z"
    },
    "papermill": {
     "duration": 0.064563,
     "end_time": "2022-01-26T14:19:47.069883",
     "exception": false,
     "start_time": "2022-01-26T14:19:47.005320",
     "status": "completed"
    },
    "tags": [],
    "ExecuteTime": {
     "end_time": "2024-02-17T14:58:20.182110600Z",
     "start_time": "2024-02-17T14:58:20.118541300Z"
    }
   },
   "outputs": [
    {
     "data": {
      "text/plain": "'Google,Data,Analytics,Data,Analysis,R,Programming,SQL,Business,Communication,Spreadsheet,Software,Business,Analysis,Data,Visualization,Data,Management,General,Statistics,Big,Data,Communication,Computer,Programming,Data,Science,Data,Visualization,Software,Databases,Exploratory,Data,Analysis,Extract,Transform,Load,Leadership,and,Management,Microsoft,Excel,Problem,Solving,Small,Data,Statistical,Programming,Tableau,Software,Beginner,Professional,Certificate,3,6,Months'"
     },
     "execution_count": 16,
     "metadata": {},
     "output_type": "execute_result"
    }
   ],
   "source": [
    "data['tags'].iloc[1]"
   ]
  },
  {
   "cell_type": "markdown",
   "id": "40ebb711",
   "metadata": {
    "papermill": {
     "duration": 0.055116,
     "end_time": "2022-01-26T14:19:47.180933",
     "exception": false,
     "start_time": "2022-01-26T14:19:47.125817",
     "status": "completed"
    },
    "tags": []
   },
   "source": [
    "# Dataframe to be used"
   ]
  },
  {
   "cell_type": "code",
   "execution_count": 17,
   "id": "b3807261",
   "metadata": {
    "execution": {
     "iopub.execute_input": "2022-01-26T14:19:47.295634Z",
     "iopub.status.busy": "2022-01-26T14:19:47.294976Z",
     "iopub.status.idle": "2022-01-26T14:19:47.300427Z",
     "shell.execute_reply": "2022-01-26T14:19:47.300988Z",
     "shell.execute_reply.started": "2022-01-26T12:56:47.650782Z"
    },
    "papermill": {
     "duration": 0.064683,
     "end_time": "2022-01-26T14:19:47.301174",
     "exception": false,
     "start_time": "2022-01-26T14:19:47.236491",
     "status": "completed"
    },
    "tags": [],
    "ExecuteTime": {
     "end_time": "2024-02-17T14:58:25.013917100Z",
     "start_time": "2024-02-17T14:58:24.948222100Z"
    }
   },
   "outputs": [],
   "source": [
    "new_df = data[['course_name', 'course_rating', 'earn_skills', 'course_link', 'institution', 'metadata', 'tags']]"
   ]
  },
  {
   "cell_type": "code",
   "execution_count": 18,
   "id": "e4f516b3",
   "metadata": {
    "execution": {
     "iopub.execute_input": "2022-01-26T14:19:47.423897Z",
     "iopub.status.busy": "2022-01-26T14:19:47.423181Z",
     "iopub.status.idle": "2022-01-26T14:19:47.425800Z",
     "shell.execute_reply": "2022-01-26T14:19:47.426278Z",
     "shell.execute_reply.started": "2022-01-26T12:56:53.601235Z"
    },
    "papermill": {
     "duration": 0.069032,
     "end_time": "2022-01-26T14:19:47.426446",
     "exception": false,
     "start_time": "2022-01-26T14:19:47.357414",
     "status": "completed"
    },
    "tags": [],
    "ExecuteTime": {
     "end_time": "2024-02-17T14:58:25.823187700Z",
     "start_time": "2024-02-17T14:58:25.784187800Z"
    }
   },
   "outputs": [
    {
     "data": {
      "text/plain": "                             course_name  course_rating  \\\n0                   Google,Cybersecurity            4.8   \n1                  Google,Data,Analytics            4.8   \n2              Google,Project,Management            4.8   \n3                       IBM,Data,Science            4.8   \n4  Google,Digital,Marketing,&,E-commerce            4.8   \n\n                                         earn_skills  \\\n0  Network,Security,Python,Programming,Linux,Clou...   \n1  Data,Analysis,R,Programming,SQL,Business,Commu...   \n2  Project,Management,Strategy,and,Operations,Lea...   \n3  Python,Programming,Machine,Learning,Data,Scien...   \n4  Digital,Marketing,Marketing,Marketing,Manageme...   \n\n                                         course_link institution  \\\n0  https://www.coursera.org/professional-certific...      Google   \n1  https://www.coursera.org/professional-certific...      Google   \n2  https://www.coursera.org/professional-certific...      Google   \n3  https://www.coursera.org/professional-certific...         IBM   \n4  https://www.coursera.org/professional-certific...      Google   \n\n                                       metadata  \\\n0  Beginner,Professional,Certificate,3,6,Months   \n1  Beginner,Professional,Certificate,3,6,Months   \n2  Beginner,Professional,Certificate,3,6,Months   \n3  Beginner,Professional,Certificate,3,6,Months   \n4  Beginner,Professional,Certificate,3,6,Months   \n\n                                                tags  \n0  Google,Cybersecurity,Network,Security,Python,P...  \n1  Google,Data,Analytics,Data,Analysis,R,Programm...  \n2  Google,Project,Management,Project,Management,S...  \n3  IBM,Data,Science,Python,Programming,Machine,Le...  \n4  Google,Digital,Marketing,&,E-commerce,Digital,...  ",
      "text/html": "<div>\n<style scoped>\n    .dataframe tbody tr th:only-of-type {\n        vertical-align: middle;\n    }\n\n    .dataframe tbody tr th {\n        vertical-align: top;\n    }\n\n    .dataframe thead th {\n        text-align: right;\n    }\n</style>\n<table border=\"1\" class=\"dataframe\">\n  <thead>\n    <tr style=\"text-align: right;\">\n      <th></th>\n      <th>course_name</th>\n      <th>course_rating</th>\n      <th>earn_skills</th>\n      <th>course_link</th>\n      <th>institution</th>\n      <th>metadata</th>\n      <th>tags</th>\n    </tr>\n  </thead>\n  <tbody>\n    <tr>\n      <th>0</th>\n      <td>Google,Cybersecurity</td>\n      <td>4.8</td>\n      <td>Network,Security,Python,Programming,Linux,Clou...</td>\n      <td>https://www.coursera.org/professional-certific...</td>\n      <td>Google</td>\n      <td>Beginner,Professional,Certificate,3,6,Months</td>\n      <td>Google,Cybersecurity,Network,Security,Python,P...</td>\n    </tr>\n    <tr>\n      <th>1</th>\n      <td>Google,Data,Analytics</td>\n      <td>4.8</td>\n      <td>Data,Analysis,R,Programming,SQL,Business,Commu...</td>\n      <td>https://www.coursera.org/professional-certific...</td>\n      <td>Google</td>\n      <td>Beginner,Professional,Certificate,3,6,Months</td>\n      <td>Google,Data,Analytics,Data,Analysis,R,Programm...</td>\n    </tr>\n    <tr>\n      <th>2</th>\n      <td>Google,Project,Management</td>\n      <td>4.8</td>\n      <td>Project,Management,Strategy,and,Operations,Lea...</td>\n      <td>https://www.coursera.org/professional-certific...</td>\n      <td>Google</td>\n      <td>Beginner,Professional,Certificate,3,6,Months</td>\n      <td>Google,Project,Management,Project,Management,S...</td>\n    </tr>\n    <tr>\n      <th>3</th>\n      <td>IBM,Data,Science</td>\n      <td>4.8</td>\n      <td>Python,Programming,Machine,Learning,Data,Scien...</td>\n      <td>https://www.coursera.org/professional-certific...</td>\n      <td>IBM</td>\n      <td>Beginner,Professional,Certificate,3,6,Months</td>\n      <td>IBM,Data,Science,Python,Programming,Machine,Le...</td>\n    </tr>\n    <tr>\n      <th>4</th>\n      <td>Google,Digital,Marketing,&amp;,E-commerce</td>\n      <td>4.8</td>\n      <td>Digital,Marketing,Marketing,Marketing,Manageme...</td>\n      <td>https://www.coursera.org/professional-certific...</td>\n      <td>Google</td>\n      <td>Beginner,Professional,Certificate,3,6,Months</td>\n      <td>Google,Digital,Marketing,&amp;,E-commerce,Digital,...</td>\n    </tr>\n  </tbody>\n</table>\n</div>"
     },
     "execution_count": 18,
     "metadata": {},
     "output_type": "execute_result"
    }
   ],
   "source": [
    "new_df.head(5)"
   ]
  },
  {
   "cell_type": "code",
   "execution_count": 19,
   "id": "f716f14c",
   "metadata": {
    "execution": {
     "iopub.execute_input": "2022-01-26T14:19:47.543759Z",
     "iopub.status.busy": "2022-01-26T14:19:47.543010Z",
     "iopub.status.idle": "2022-01-26T14:19:47.568840Z",
     "shell.execute_reply": "2022-01-26T14:19:47.569353Z",
     "shell.execute_reply.started": "2022-01-26T12:57:29.758901Z"
    },
    "papermill": {
     "duration": 0.08545,
     "end_time": "2022-01-26T14:19:47.569554",
     "exception": false,
     "start_time": "2022-01-26T14:19:47.484104",
     "status": "completed"
    },
    "tags": [],
    "ExecuteTime": {
     "end_time": "2024-02-17T14:58:27.202871800Z",
     "start_time": "2024-02-17T14:58:27.173875300Z"
    }
   },
   "outputs": [],
   "source": [
    "new_df['tags'] = data['tags'].str.replace(',',' ')"
   ]
  },
  {
   "cell_type": "code",
   "execution_count": 20,
   "id": "38d9e830",
   "metadata": {
    "execution": {
     "iopub.execute_input": "2022-01-26T14:19:47.688611Z",
     "iopub.status.busy": "2022-01-26T14:19:47.687894Z",
     "iopub.status.idle": "2022-01-26T14:19:47.695125Z",
     "shell.execute_reply": "2022-01-26T14:19:47.695760Z",
     "shell.execute_reply.started": "2022-01-26T12:58:08.296915Z"
    },
    "papermill": {
     "duration": 0.069347,
     "end_time": "2022-01-26T14:19:47.695936",
     "exception": false,
     "start_time": "2022-01-26T14:19:47.626589",
     "status": "completed"
    },
    "tags": [],
    "ExecuteTime": {
     "end_time": "2024-02-17T14:58:28.535557Z",
     "start_time": "2024-02-17T14:58:28.497512800Z"
    }
   },
   "outputs": [],
   "source": [
    "new_df['course_name'] = data['course_name'].str.replace(',',' ')"
   ]
  },
  {
   "cell_type": "code",
   "execution_count": 21,
   "id": "9c65075a",
   "metadata": {
    "execution": {
     "iopub.execute_input": "2022-01-26T14:19:47.949931Z",
     "iopub.status.busy": "2022-01-26T14:19:47.948954Z",
     "iopub.status.idle": "2022-01-26T14:19:47.977325Z",
     "shell.execute_reply": "2022-01-26T14:19:47.977969Z",
     "shell.execute_reply.started": "2022-01-26T12:58:52.731609Z"
    },
    "papermill": {
     "duration": 0.090638,
     "end_time": "2022-01-26T14:19:47.978152",
     "exception": false,
     "start_time": "2022-01-26T14:19:47.887514",
     "status": "completed"
    },
    "tags": [],
    "ExecuteTime": {
     "end_time": "2024-02-17T14:58:29.607013800Z",
     "start_time": "2024-02-17T14:58:29.541435700Z"
    }
   },
   "outputs": [],
   "source": [
    "new_df['tags'] = new_df['tags'].astype(str).apply(lambda x:x.lower()) #lower casing the tags column"
   ]
  },
  {
   "cell_type": "code",
   "execution_count": 22,
   "id": "b2bc5584",
   "metadata": {
    "execution": {
     "iopub.execute_input": "2022-01-26T14:19:48.112723Z",
     "iopub.status.busy": "2022-01-26T14:19:48.112045Z",
     "iopub.status.idle": "2022-01-26T14:19:48.121076Z",
     "shell.execute_reply": "2022-01-26T14:19:48.121592Z",
     "shell.execute_reply.started": "2022-01-26T12:58:55.635891Z"
    },
    "papermill": {
     "duration": 0.069732,
     "end_time": "2022-01-26T14:19:48.121783",
     "exception": false,
     "start_time": "2022-01-26T14:19:48.052051",
     "status": "completed"
    },
    "tags": [],
    "ExecuteTime": {
     "end_time": "2024-02-17T14:58:30.810517400Z",
     "start_time": "2024-02-17T14:58:30.770486900Z"
    }
   },
   "outputs": [
    {
     "data": {
      "text/plain": "                             course_name  course_rating  \\\n0                   Google Cybersecurity            4.8   \n1                  Google Data Analytics            4.8   \n2              Google Project Management            4.8   \n3                       IBM Data Science            4.8   \n4  Google Digital Marketing & E-commerce            4.8   \n\n                                         earn_skills  \\\n0  Network,Security,Python,Programming,Linux,Clou...   \n1  Data,Analysis,R,Programming,SQL,Business,Commu...   \n2  Project,Management,Strategy,and,Operations,Lea...   \n3  Python,Programming,Machine,Learning,Data,Scien...   \n4  Digital,Marketing,Marketing,Marketing,Manageme...   \n\n                                         course_link institution  \\\n0  https://www.coursera.org/professional-certific...      Google   \n1  https://www.coursera.org/professional-certific...      Google   \n2  https://www.coursera.org/professional-certific...      Google   \n3  https://www.coursera.org/professional-certific...         IBM   \n4  https://www.coursera.org/professional-certific...      Google   \n\n                                       metadata  \\\n0  Beginner,Professional,Certificate,3,6,Months   \n1  Beginner,Professional,Certificate,3,6,Months   \n2  Beginner,Professional,Certificate,3,6,Months   \n3  Beginner,Professional,Certificate,3,6,Months   \n4  Beginner,Professional,Certificate,3,6,Months   \n\n                                                tags  \n0  google cybersecurity network security python p...  \n1  google data analytics data analysis r programm...  \n2  google project management project management s...  \n3  ibm data science python programming machine le...  \n4  google digital marketing & e-commerce digital ...  ",
      "text/html": "<div>\n<style scoped>\n    .dataframe tbody tr th:only-of-type {\n        vertical-align: middle;\n    }\n\n    .dataframe tbody tr th {\n        vertical-align: top;\n    }\n\n    .dataframe thead th {\n        text-align: right;\n    }\n</style>\n<table border=\"1\" class=\"dataframe\">\n  <thead>\n    <tr style=\"text-align: right;\">\n      <th></th>\n      <th>course_name</th>\n      <th>course_rating</th>\n      <th>earn_skills</th>\n      <th>course_link</th>\n      <th>institution</th>\n      <th>metadata</th>\n      <th>tags</th>\n    </tr>\n  </thead>\n  <tbody>\n    <tr>\n      <th>0</th>\n      <td>Google Cybersecurity</td>\n      <td>4.8</td>\n      <td>Network,Security,Python,Programming,Linux,Clou...</td>\n      <td>https://www.coursera.org/professional-certific...</td>\n      <td>Google</td>\n      <td>Beginner,Professional,Certificate,3,6,Months</td>\n      <td>google cybersecurity network security python p...</td>\n    </tr>\n    <tr>\n      <th>1</th>\n      <td>Google Data Analytics</td>\n      <td>4.8</td>\n      <td>Data,Analysis,R,Programming,SQL,Business,Commu...</td>\n      <td>https://www.coursera.org/professional-certific...</td>\n      <td>Google</td>\n      <td>Beginner,Professional,Certificate,3,6,Months</td>\n      <td>google data analytics data analysis r programm...</td>\n    </tr>\n    <tr>\n      <th>2</th>\n      <td>Google Project Management</td>\n      <td>4.8</td>\n      <td>Project,Management,Strategy,and,Operations,Lea...</td>\n      <td>https://www.coursera.org/professional-certific...</td>\n      <td>Google</td>\n      <td>Beginner,Professional,Certificate,3,6,Months</td>\n      <td>google project management project management s...</td>\n    </tr>\n    <tr>\n      <th>3</th>\n      <td>IBM Data Science</td>\n      <td>4.8</td>\n      <td>Python,Programming,Machine,Learning,Data,Scien...</td>\n      <td>https://www.coursera.org/professional-certific...</td>\n      <td>IBM</td>\n      <td>Beginner,Professional,Certificate,3,6,Months</td>\n      <td>ibm data science python programming machine le...</td>\n    </tr>\n    <tr>\n      <th>4</th>\n      <td>Google Digital Marketing &amp; E-commerce</td>\n      <td>4.8</td>\n      <td>Digital,Marketing,Marketing,Marketing,Manageme...</td>\n      <td>https://www.coursera.org/professional-certific...</td>\n      <td>Google</td>\n      <td>Beginner,Professional,Certificate,3,6,Months</td>\n      <td>google digital marketing &amp; e-commerce digital ...</td>\n    </tr>\n  </tbody>\n</table>\n</div>"
     },
     "execution_count": 22,
     "metadata": {},
     "output_type": "execute_result"
    }
   ],
   "source": [
    "new_df.head(5)"
   ]
  },
  {
   "cell_type": "code",
   "execution_count": 23,
   "id": "66db7225",
   "metadata": {
    "execution": {
     "iopub.execute_input": "2022-01-26T14:19:48.240478Z",
     "iopub.status.busy": "2022-01-26T14:19:48.239827Z",
     "iopub.status.idle": "2022-01-26T14:19:48.244379Z",
     "shell.execute_reply": "2022-01-26T14:19:48.244875Z",
     "shell.execute_reply.started": "2022-01-26T12:59:36.995288Z"
    },
    "papermill": {
     "duration": 0.065828,
     "end_time": "2022-01-26T14:19:48.245060",
     "exception": false,
     "start_time": "2022-01-26T14:19:48.179232",
     "status": "completed"
    },
    "tags": [],
    "ExecuteTime": {
     "end_time": "2024-02-17T14:58:31.987135100Z",
     "start_time": "2024-02-17T14:58:31.931542600Z"
    }
   },
   "outputs": [
    {
     "data": {
      "text/plain": "(1000, 7)"
     },
     "execution_count": 23,
     "metadata": {},
     "output_type": "execute_result"
    }
   ],
   "source": [
    "new_df.shape #5796 jobs with tags and 6 columns"
   ]
  },
  {
   "cell_type": "markdown",
   "id": "4a5083c5",
   "metadata": {
    "papermill": {
     "duration": 0.060035,
     "end_time": "2022-01-26T14:19:48.362969",
     "exception": false,
     "start_time": "2022-01-26T14:19:48.302934",
     "status": "completed"
    },
    "tags": []
   },
   "source": [
    "# Text Vectorization"
   ]
  },
  {
   "cell_type": "code",
   "execution_count": 24,
   "id": "e8ae56b95c0e1bcd",
   "metadata": {
    "ExecuteTime": {
     "end_time": "2024-02-17T14:58:36.453959900Z",
     "start_time": "2024-02-17T14:58:34.978503400Z"
    }
   },
   "outputs": [],
   "source": [
    "from sklearn.feature_extraction.text import CountVectorizer"
   ]
  },
  {
   "cell_type": "code",
   "execution_count": 25,
   "id": "e6372627",
   "metadata": {
    "execution": {
     "iopub.execute_input": "2022-01-26T14:19:48.746790Z",
     "iopub.status.busy": "2022-01-26T14:19:48.746084Z",
     "iopub.status.idle": "2022-01-26T14:19:48.748607Z",
     "shell.execute_reply": "2022-01-26T14:19:48.748074Z",
     "shell.execute_reply.started": "2022-01-26T13:00:25.765271Z"
    },
    "papermill": {
     "duration": 0.06615,
     "end_time": "2022-01-26T14:19:48.748745",
     "exception": false,
     "start_time": "2022-01-26T14:19:48.682595",
     "status": "completed"
    },
    "tags": [],
    "ExecuteTime": {
     "end_time": "2024-02-17T14:58:37.161357200Z",
     "start_time": "2024-02-17T14:58:37.129278500Z"
    }
   },
   "outputs": [],
   "source": [
    "cv = CountVectorizer(max_features=5000,stop_words='english')"
   ]
  },
  {
   "cell_type": "code",
   "execution_count": 26,
   "id": "7d43550e",
   "metadata": {
    "execution": {
     "iopub.execute_input": "2022-01-26T14:19:48.868706Z",
     "iopub.status.busy": "2022-01-26T14:19:48.868015Z",
     "iopub.status.idle": "2022-01-26T14:19:49.836960Z",
     "shell.execute_reply": "2022-01-26T14:19:49.837458Z",
     "shell.execute_reply.started": "2022-01-26T13:00:30.470945Z"
    },
    "papermill": {
     "duration": 1.030812,
     "end_time": "2022-01-26T14:19:49.837694",
     "exception": false,
     "start_time": "2022-01-26T14:19:48.806882",
     "status": "completed"
    },
    "tags": [],
    "ExecuteTime": {
     "end_time": "2024-02-17T14:58:38.083903800Z",
     "start_time": "2024-02-17T14:58:38.024317500Z"
    }
   },
   "outputs": [],
   "source": [
    "vectors = cv.fit_transform(new_df['tags']).toarray()"
   ]
  },
  {
   "cell_type": "markdown",
   "id": "0cfa085e",
   "metadata": {
    "papermill": {
     "duration": 0.059295,
     "end_time": "2022-01-26T14:19:49.956538",
     "exception": false,
     "start_time": "2022-01-26T14:19:49.897243",
     "status": "completed"
    },
    "tags": []
   },
   "source": [
    "# Stemming Process"
   ]
  },
  {
   "cell_type": "code",
   "execution_count": 27,
   "id": "a52edca3818cf61",
   "metadata": {
    "ExecuteTime": {
     "end_time": "2024-02-17T14:58:40.572167700Z",
     "start_time": "2024-02-17T14:58:39.675479500Z"
    }
   },
   "outputs": [],
   "source": [
    "import nltk #for stemming process"
   ]
  },
  {
   "cell_type": "code",
   "execution_count": 28,
   "id": "50725a4b",
   "metadata": {
    "execution": {
     "iopub.execute_input": "2022-01-26T14:19:50.844107Z",
     "iopub.status.busy": "2022-01-26T14:19:50.843400Z",
     "iopub.status.idle": "2022-01-26T14:19:50.847403Z",
     "shell.execute_reply": "2022-01-26T14:19:50.847932Z",
     "shell.execute_reply.started": "2022-01-26T13:00:55.372687Z"
    },
    "papermill": {
     "duration": 0.066187,
     "end_time": "2022-01-26T14:19:50.848117",
     "exception": false,
     "start_time": "2022-01-26T14:19:50.781930",
     "status": "completed"
    },
    "tags": [],
    "ExecuteTime": {
     "end_time": "2024-02-17T14:58:41.385098900Z",
     "start_time": "2024-02-17T14:58:41.346796600Z"
    }
   },
   "outputs": [],
   "source": [
    "from nltk.stem.porter import PorterStemmer\n",
    "ps = PorterStemmer()"
   ]
  },
  {
   "cell_type": "code",
   "execution_count": 29,
   "id": "9710abff",
   "metadata": {
    "execution": {
     "iopub.execute_input": "2022-01-26T14:19:50.970441Z",
     "iopub.status.busy": "2022-01-26T14:19:50.969372Z",
     "iopub.status.idle": "2022-01-26T14:19:50.974055Z",
     "shell.execute_reply": "2022-01-26T14:19:50.974518Z",
     "shell.execute_reply.started": "2022-01-26T13:01:26.727138Z"
    },
    "papermill": {
     "duration": 0.067833,
     "end_time": "2022-01-26T14:19:50.974701",
     "exception": false,
     "start_time": "2022-01-26T14:19:50.906868",
     "status": "completed"
    },
    "tags": [],
    "ExecuteTime": {
     "end_time": "2024-02-17T14:58:42.351653200Z",
     "start_time": "2024-02-17T14:58:42.287904700Z"
    }
   },
   "outputs": [],
   "source": [
    "#defining the stemming function\n",
    "def stem(text):\n",
    "    y=[]\n",
    "    \n",
    "    for i in text.split():\n",
    "        y.append(ps.stem(i))\n",
    "    \n",
    "    return \" \".join(y)"
   ]
  },
  {
   "cell_type": "code",
   "execution_count": 30,
   "id": "51c560be",
   "metadata": {
    "execution": {
     "iopub.execute_input": "2022-01-26T14:19:51.096458Z",
     "iopub.status.busy": "2022-01-26T14:19:51.095435Z",
     "iopub.status.idle": "2022-01-26T14:20:09.833321Z",
     "shell.execute_reply": "2022-01-26T14:20:09.834233Z",
     "shell.execute_reply.started": "2022-01-26T13:02:02.700396Z"
    },
    "papermill": {
     "duration": 18.800875,
     "end_time": "2022-01-26T14:20:09.834414",
     "exception": false,
     "start_time": "2022-01-26T14:19:51.033539",
     "status": "completed"
    },
    "tags": [],
    "ExecuteTime": {
     "end_time": "2024-02-17T14:58:44.298123900Z",
     "start_time": "2024-02-17T14:58:43.382792600Z"
    }
   },
   "outputs": [],
   "source": [
    "new_df['tags'] = new_df['tags'].apply(stem) #applying stemming on the tags column"
   ]
  },
  {
   "cell_type": "markdown",
   "id": "e6ee86c9",
   "metadata": {
    "papermill": {
     "duration": 0.059879,
     "end_time": "2022-01-26T14:20:09.952432",
     "exception": false,
     "start_time": "2022-01-26T14:20:09.892553",
     "status": "completed"
    },
    "tags": []
   },
   "source": [
    "# Similarity Measure "
   ]
  },
  {
   "cell_type": "code",
   "execution_count": 31,
   "id": "9b4f80e4",
   "metadata": {
    "execution": {
     "iopub.execute_input": "2022-01-26T14:20:10.075324Z",
     "iopub.status.busy": "2022-01-26T14:20:10.074250Z",
     "iopub.status.idle": "2022-01-26T14:20:10.078349Z",
     "shell.execute_reply": "2022-01-26T14:20:10.078920Z",
     "shell.execute_reply.started": "2022-01-26T13:02:27.946429Z"
    },
    "papermill": {
     "duration": 0.067769,
     "end_time": "2022-01-26T14:20:10.079103",
     "exception": false,
     "start_time": "2022-01-26T14:20:10.011334",
     "status": "completed"
    },
    "tags": [],
    "ExecuteTime": {
     "end_time": "2024-02-17T14:58:45.758334400Z",
     "start_time": "2024-02-17T14:58:45.733008700Z"
    }
   },
   "outputs": [],
   "source": [
    "from sklearn.metrics.pairwise import cosine_similarity"
   ]
  },
  {
   "cell_type": "code",
   "execution_count": 32,
   "id": "26fcc651",
   "metadata": {
    "execution": {
     "iopub.execute_input": "2022-01-26T14:20:10.201244Z",
     "iopub.status.busy": "2022-01-26T14:20:10.200570Z",
     "iopub.status.idle": "2022-01-26T14:20:11.472233Z",
     "shell.execute_reply": "2022-01-26T14:20:11.473186Z",
     "shell.execute_reply.started": "2022-01-26T13:02:34.205466Z"
    },
    "papermill": {
     "duration": 1.335405,
     "end_time": "2022-01-26T14:20:11.473497",
     "exception": false,
     "start_time": "2022-01-26T14:20:10.138092",
     "status": "completed"
    },
    "tags": [],
    "ExecuteTime": {
     "end_time": "2024-02-17T14:58:46.535775400Z",
     "start_time": "2024-02-17T14:58:46.488774600Z"
    }
   },
   "outputs": [],
   "source": [
    "similarity = cosine_similarity(vectors)"
   ]
  },
  {
   "cell_type": "markdown",
   "id": "100bd489",
   "metadata": {
    "papermill": {
     "duration": 0.059252,
     "end_time": "2022-01-26T14:20:11.619088",
     "exception": false,
     "start_time": "2022-01-26T14:20:11.559836",
     "status": "completed"
    },
    "tags": []
   },
   "source": [
    "# Recommendation Function"
   ]
  },
  {
   "cell_type": "code",
   "execution_count": 33,
   "id": "b0e15b2b",
   "metadata": {
    "execution": {
     "iopub.execute_input": "2022-01-26T14:20:11.745691Z",
     "iopub.status.busy": "2022-01-26T14:20:11.744935Z",
     "iopub.status.idle": "2022-01-26T14:20:11.746394Z",
     "shell.execute_reply": "2022-01-26T14:20:11.746994Z",
     "shell.execute_reply.started": "2022-01-26T13:03:26.756125Z"
    },
    "papermill": {
     "duration": 0.068387,
     "end_time": "2022-01-26T14:20:11.747173",
     "exception": false,
     "start_time": "2022-01-26T14:20:11.678786",
     "status": "completed"
    },
    "tags": [],
    "ExecuteTime": {
     "end_time": "2024-02-17T14:58:48.010035800Z",
     "start_time": "2024-02-17T14:58:47.954241400Z"
    }
   },
   "outputs": [],
   "source": [
    "import re\n",
    "\n",
    "def recommend(job):\n",
    "    index = 0\n",
    "    for ind in new_df.index:\n",
    "        if re.search(job, new_df['course_name'][ind], re.IGNORECASE):\n",
    "                index = ind\n",
    "                break\n",
    "    print('course_index: ', index)\n",
    "    distances = similarity[index]\n",
    "    courses_list = sorted(list(enumerate(distances)),reverse=True, key=lambda x:x[1])[1:7]\n",
    "    \n",
    "    for i in courses_list:\n",
    "        print(new_df.iloc[i[0]].course_name)"
   ]
  },
  {
   "cell_type": "code",
   "execution_count": 34,
   "id": "0ba0466e",
   "metadata": {
    "execution": {
     "iopub.execute_input": "2022-01-26T14:20:11.872210Z",
     "iopub.status.busy": "2022-01-26T14:20:11.871269Z",
     "iopub.status.idle": "2022-01-26T14:20:11.884642Z",
     "shell.execute_reply": "2022-01-26T14:20:11.885341Z",
     "shell.execute_reply.started": "2022-01-26T13:03:28.042547Z"
    },
    "papermill": {
     "duration": 0.076619,
     "end_time": "2022-01-26T14:20:11.885608",
     "exception": false,
     "start_time": "2022-01-26T14:20:11.808989",
     "status": "completed"
    },
    "tags": [],
    "ExecuteTime": {
     "end_time": "2024-02-17T14:58:49.118971100Z",
     "start_time": "2024-02-17T14:58:49.048378800Z"
    }
   },
   "outputs": [
    {
     "name": "stdout",
     "output_type": "stream",
     "text": [
      "course_index:  559\n",
      "Scrum Master Certification\n",
      "Software Testing and Automation\n",
      "Introduction to Software Engineering\n",
      "Applied Software Engineering Fundamentals\n",
      "Introduction to Scrum Master Training\n",
      "Software Product Management\n"
     ]
    }
   ],
   "source": [
    "recommend('Software Development')"
   ]
  },
  {
   "cell_type": "markdown",
   "id": "254e440256a42f74",
   "metadata": {},
   "source": []
  },
  {
   "cell_type": "markdown",
   "id": "973c1cdf",
   "metadata": {
    "papermill": {
     "duration": 0.060412,
     "end_time": "2022-01-26T14:20:12.130219",
     "exception": false,
     "start_time": "2022-01-26T14:20:12.069807",
     "status": "completed"
    },
    "tags": []
   },
   "source": [
    "# Exporting the Model"
   ]
  },
  {
   "cell_type": "code",
   "execution_count": 35,
   "id": "949dc95b",
   "metadata": {
    "execution": {
     "iopub.execute_input": "2022-01-26T14:20:12.253179Z",
     "iopub.status.busy": "2022-01-26T14:20:12.252427Z",
     "iopub.status.idle": "2022-01-26T14:20:12.255671Z",
     "shell.execute_reply": "2022-01-26T14:20:12.256173Z",
     "shell.execute_reply.started": "2022-01-26T13:04:30.184632Z"
    },
    "papermill": {
     "duration": 0.066666,
     "end_time": "2022-01-26T14:20:12.256353",
     "exception": false,
     "start_time": "2022-01-26T14:20:12.189687",
     "status": "completed"
    },
    "tags": [],
    "ExecuteTime": {
     "end_time": "2024-02-17T14:58:52.806502100Z",
     "start_time": "2024-02-17T14:58:52.480082800Z"
    }
   },
   "outputs": [
    {
     "name": "stderr",
     "output_type": "stream",
     "text": [
      "C:\\Users\\susha\\AppData\\Local\\Temp\\ipykernel_752\\3700956202.py:8: PerformanceWarning: \n",
      "your performance may suffer as PyTables will pickle object types that it cannot\n",
      "map directly to c-types [inferred_type->mixed,key->block1_values] [items->Index(['course_name', 'earn_skills', 'course_link', 'institution', 'metadata',\n",
      "       'tags'],\n",
      "      dtype='object')]\n",
      "\n",
      "  new_df.to_hdf('./models/courses.hdf5', 'courses', mode='a')\n"
     ]
    }
   ],
   "source": [
    "import h5py\n",
    "#import tables\n",
    "\n",
    "with h5py.File('./models/courses.hdf5', 'w') as f:\n",
    "    dset = f.create_dataset(\"similarity\", data=similarity)\n",
    "    f.close()\n",
    "\n",
    "new_df.to_hdf('./models/courses.hdf5', 'courses', mode='a')"
   ]
  }
 ],
 "metadata": {
  "kernelspec": {
   "display_name": "Python 3 (ipykernel)",
   "language": "python",
   "name": "python3"
  },
  "language_info": {
   "codemirror_mode": {
    "name": "ipython",
    "version": 3
   },
   "file_extension": ".py",
   "mimetype": "text/x-python",
   "name": "python",
   "nbconvert_exporter": "python",
   "pygments_lexer": "ipython3",
   "version": "3.8.0"
  },
  "papermill": {
   "default_parameters": {},
   "duration": 40.65955,
   "end_time": "2022-01-26T14:20:13.730648",
   "environment_variables": {},
   "exception": null,
   "input_path": "__notebook__.ipynb",
   "output_path": "__notebook__.ipynb",
   "parameters": {},
   "start_time": "2022-01-26T14:19:33.071098",
   "version": "2.3.3"
  }
 },
 "nbformat": 4,
 "nbformat_minor": 5
}
